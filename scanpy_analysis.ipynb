{
 "cells": [
  {
   "cell_type": "code",
   "execution_count": 1,
   "metadata": {
    "collapsed": false,
    "deletable": true,
    "editable": true
   },
   "outputs": [
    {
     "name": "stdout",
     "output_type": "stream",
     "text": [
      "scanpy==1.5.1 anndata==0.7.4 umap==0.3.10 numpy==1.18.1 scipy==1.4.1 pandas==1.0.5 scikit-learn==0.21.3 statsmodels==0.11.1 python-igraph==0.8.0 louvain==0.6.1 leidenalg==0.7.0\n"
     ]
    }
   ],
   "source": [
    "\n",
    "import numpy as np\n",
    "import pandas as pd\n",
    "import scanpy as sc\n",
    "from sklearn.svm import OneClassSVM\n",
    "from sklearn.neighbors import LocalOutlierFactor\n",
    "from sklearn.ensemble import IsolationForest\n",
    "import diffxpy.api as de\n",
    "import os\n",
    "\n",
    "\n",
    "sc.settings.verbosity = 3             # verbosity: errors (0), warnings (1), info (2), hints (3)\n",
    "sc.logging.print_versions()\n",
    "sc.settings.set_figure_params(scanpy=False,vector_friendly=False)"
   ]
  },
  {
   "cell_type": "code",
   "execution_count": null,
   "metadata": {
    "collapsed": false,
    "deletable": true,
    "editable": true
   },
   "outputs": [
    {
     "name": "stdout",
     "output_type": "stream",
     "text": [
      "reading raw_feature_bc_matrix_lib1.h5\n"
     ]
    },
    {
     "name": "stderr",
     "output_type": "stream",
     "text": [
      "Variable names are not unique. To make them unique, call `.var_names_make_unique`.\n"
     ]
    },
    {
     "name": "stdout",
     "output_type": "stream",
     "text": [
      " (0:00:16)\n",
      "reading raw_feature_bc_matrix_lib2.h5\n"
     ]
    }
   ],
   "source": [
    "adata1 = sc.read_10x_h5(\"raw_feature_bc_matrix_lib1.h5\")\n",
    "adata2 = sc.read_10x_h5(\"raw_feature_bc_matrix_lib2.h5\")\n",
    "adata3 = sc.read_10x_h5(\"raw_feature_bc_matrix_lib3.h5\")\n",
    "adata4 = sc.read_10x_h5(\"raw_feature_bc_matrix_lib4.h5\")\n",
    "\n",
    "adata1.var_names_make_unique()\n",
    "adata2.var_names_make_unique()\n",
    "adata3.var_names_make_unique()\n",
    "adata4.var_names_make_unique()"
   ]
  },
  {
   "cell_type": "code",
   "execution_count": null,
   "metadata": {
    "collapsed": true,
    "deletable": true,
    "editable": true
   },
   "outputs": [],
   "source": [
    "adata = adata1\n",
    "df_sg_map = pd.read_table('mapped_single_sgRNA_to_cell_lib1.txt',header=None,index_col=0)\n",
    "\n",
    "mapped = adata.obs.merge(df_sg_map,left_index=True,right_index=True,how='inner')\n",
    "\n",
    "mapped_cells = mapped.index\n",
    "\n",
    "adata = adata[adata.obs.index.isin(mapped_cells),:]\n",
    "\n",
    "adata.obs['sgRNA'] = mapped[1]\n",
    "\n",
    "adata.obs['gene'] = adata.obs['sgRNA'].apply(lambda x: x.split('_')[0])\n",
    "sc.pp.filter_cells(adata, min_genes=2000)\n",
    "sc.pp.filter_cells(adata, min_counts=8000)\n",
    "\n",
    "mito_genes = adata.var_names.str.startswith('MT-')\n",
    "\n",
    "adata.obs['percent_mito'] = np.sum(\n",
    "    adata[:, mito_genes].X, axis=1).A1 / np.sum(adata.X, axis=1).A1\n",
    "# add the total counts per cell as observations-annotation to adata\n",
    "adata.obs['n_counts'] = adata.X.sum(axis=1).A1\n",
    "# sc.pl.violin(adata, ['n_genes', 'n_counts', 'percent_mito'],\n",
    "#              jitter=0.4, multi_panel=True)\n",
    "\n",
    "\n",
    "# sc.pl.scatter(adata, x='n_counts', y='percent_mito')\n",
    "# sc.pl.scatter(adata, x='n_counts', y='n_genes')\n",
    "adata1 = adata[adata.obs.percent_mito < 0.15, ]"
   ]
  },
  {
   "cell_type": "code",
   "execution_count": 4,
   "metadata": {
    "collapsed": false,
    "deletable": true,
    "editable": true
   },
   "outputs": [
    {
     "name": "stderr",
     "output_type": "stream",
     "text": [
      "Trying to set attribute `.obs` of view, making a copy.\n"
     ]
    },
    {
     "name": "stdout",
     "output_type": "stream",
     "text": [
      "filtered out 18905 cells that haveless than 2000 genes expressed\n",
      "filtered out 405 cells that haveless than 8000 counts\n"
     ]
    }
   ],
   "source": [
    "adata = adata2\n",
    "df_sg_map = pd.read_table('mapped_single_sgRNA_to_cell_lib2.txt',header=None,index_col=0)\n",
    "\n",
    "mapped = adata.obs.merge(df_sg_map,left_index=True,right_index=True,how='inner')\n",
    "\n",
    "mapped_cells = mapped.index\n",
    "\n",
    "adata = adata[adata.obs.index.isin(mapped_cells),:]\n",
    "\n",
    "adata.obs['sgRNA'] = mapped[1]\n",
    "\n",
    "adata.obs['gene'] = adata.obs['sgRNA'].apply(lambda x: x.split('_')[0])\n",
    "sc.pp.filter_cells(adata, min_genes=2000)\n",
    "sc.pp.filter_cells(adata, min_counts=8000)\n",
    "mito_genes = adata.var_names.str.startswith('MT-')\n",
    "\n",
    "adata.obs['percent_mito'] = np.sum(\n",
    "    adata[:, mito_genes].X, axis=1).A1 / np.sum(adata.X, axis=1).A1\n",
    "# add the total counts per cell as observations-annotation to adata\n",
    "adata.obs['n_counts'] = adata.X.sum(axis=1).A1\n",
    "# sc.pl.violin(adata, ['n_genes', 'n_counts', 'percent_mito'],\n",
    "#              jitter=0.4, multi_panel=True)\n",
    "\n",
    "\n",
    "# sc.pl.scatter(adata, x='n_counts', y='percent_mito')\n",
    "# sc.pl.scatter(adata, x='n_counts', y='n_genes')\n",
    "adata2 = adata[adata.obs.percent_mito < 0.15, ]"
   ]
  },
  {
   "cell_type": "code",
   "execution_count": 5,
   "metadata": {
    "collapsed": false,
    "deletable": true,
    "editable": true
   },
   "outputs": [
    {
     "name": "stderr",
     "output_type": "stream",
     "text": [
      "Trying to set attribute `.obs` of view, making a copy.\n"
     ]
    },
    {
     "name": "stdout",
     "output_type": "stream",
     "text": [
      "filtered out 19394 cells that haveless than 2000 genes expressed\n",
      "filtered out 164 cells that haveless than 8000 counts\n"
     ]
    }
   ],
   "source": [
    "adata = adata3\n",
    "df_sg_map = pd.read_table('mapped_single_sgRNA_to_cell_lib3.txt',header=None,index_col=0)\n",
    "\n",
    "mapped = adata.obs.merge(df_sg_map,left_index=True,right_index=True,how='inner')\n",
    "\n",
    "mapped_cells = mapped.index\n",
    "\n",
    "adata = adata[adata.obs.index.isin(mapped_cells),:]\n",
    "\n",
    "adata.obs['sgRNA'] = mapped[1]\n",
    "\n",
    "adata.obs['gene'] = adata.obs['sgRNA'].apply(lambda x: x.split('_')[0])\n",
    "sc.pp.filter_cells(adata, min_genes=2000)\n",
    "sc.pp.filter_cells(adata, min_counts=8000)\n",
    "\n",
    "mito_genes = adata.var_names.str.startswith('MT-')\n",
    "\n",
    "adata.obs['percent_mito'] = np.sum(\n",
    "    adata[:, mito_genes].X, axis=1).A1 / np.sum(adata.X, axis=1).A1\n",
    "# add the total counts per cell as observations-annotation to adata\n",
    "adata.obs['n_counts'] = adata.X.sum(axis=1).A1\n",
    "# sc.pl.violin(adata, ['n_genes', 'n_counts', 'percent_mito'],\n",
    "#              jitter=0.4, multi_panel=True)\n",
    "\n",
    "\n",
    "# sc.pl.scatter(adata, x='n_counts', y='percent_mito')\n",
    "# sc.pl.scatter(adata, x='n_counts', y='n_genes')\n",
    "adata3 = adata[adata.obs.percent_mito < 0.15, ]"
   ]
  },
  {
   "cell_type": "code",
   "execution_count": 6,
   "metadata": {
    "collapsed": false,
    "deletable": true,
    "editable": true
   },
   "outputs": [
    {
     "name": "stderr",
     "output_type": "stream",
     "text": [
      "Trying to set attribute `.obs` of view, making a copy.\n"
     ]
    },
    {
     "name": "stdout",
     "output_type": "stream",
     "text": [
      "filtered out 14305 cells that haveless than 2000 genes expressed\n",
      "filtered out 1178 cells that haveless than 8000 counts\n"
     ]
    }
   ],
   "source": [
    "adata = adata4\n",
    "df_sg_map = pd.read_table('mapped_single_sgRNA_to_cell_lib4.txt',header=None,index_col=0)\n",
    "\n",
    "mapped = adata.obs.merge(df_sg_map,left_index=True,right_index=True,how='inner')\n",
    "\n",
    "mapped_cells = mapped.index\n",
    "\n",
    "adata = adata[adata.obs.index.isin(mapped_cells),:]\n",
    "\n",
    "adata.obs['sgRNA'] = mapped[1]\n",
    "\n",
    "adata.obs['gene'] = adata.obs['sgRNA'].apply(lambda x: x.split('_')[0])\n",
    "sc.pp.filter_cells(adata, min_genes=2000)\n",
    "sc.pp.filter_cells(adata, min_counts=8000)\n",
    "\n",
    "mito_genes = adata.var_names.str.startswith('MT-')\n",
    "\n",
    "adata.obs['percent_mito'] = np.sum(\n",
    "    adata[:, mito_genes].X, axis=1).A1 / np.sum(adata.X, axis=1).A1\n",
    "# add the total counts per cell as observations-annotation to adata\n",
    "adata.obs['n_counts'] = adata.X.sum(axis=1).A1\n",
    "# sc.pl.violin(adata, ['n_genes', 'n_counts', 'percent_mito'],\n",
    "#              jitter=0.4, multi_panel=True)\n",
    "\n",
    "\n",
    "# sc.pl.scatter(adata, x='n_counts', y='percent_mito')\n",
    "# sc.pl.scatter(adata, x='n_counts', y='n_genes')\n",
    "adata4 = adata[adata.obs.percent_mito < 0.15, ]"
   ]
  },
  {
   "cell_type": "code",
   "execution_count": 7,
   "metadata": {
    "collapsed": true,
    "deletable": true,
    "editable": true
   },
   "outputs": [],
   "source": [
    "adata = adata1.concatenate(adata2,adata3,adata4)\n"
   ]
  },
  {
   "cell_type": "code",
   "execution_count": 8,
   "metadata": {
    "collapsed": true,
    "deletable": true,
    "editable": true
   },
   "outputs": [
    {
     "name": "stdout",
     "output_type": "stream",
     "text": [
      "TMEM55A\n",
      "ATP5C1\n",
      "non-targeting\n",
      "ATP5H\n"
     ]
    }
   ],
   "source": [
    "genes = adata.obs['gene'].unique().tolist()\n",
    "\n",
    "for i, gene in enumerate(genes):\n",
    "    if gene not in adata.var_names.tolist():\n",
    "        print (gene)"
   ]
  },
  {
   "cell_type": "code",
   "execution_count": 9,
   "metadata": {
    "collapsed": true,
    "deletable": true,
    "editable": true
   },
   "outputs": [],
   "source": [
    "target_genes = adata.obs['gene'].tolist()\n",
    "target_genes[target_genes=='TMEM55A']='PIP4P2'\n",
    "target_genes[target_genes=='ATP5C1']='ATP5F1C'\n",
    "target_genes[target_genes=='ATP5H']='ATP5PD'\n",
    "adata.obs['gene'] = target_genes\n"
   ]
  },
  {
   "cell_type": "code",
   "execution_count": 15,
   "metadata": {
    "collapsed": true,
    "deletable": true,
    "editable": true
   },
   "outputs": [],
   "source": [
    "def grouped_obs_mean(adata, group_key, layer=None, gene_symbols=None):\n",
    "    if layer is not None:\n",
    "        getX = lambda x: x.layers[layer]\n",
    "    else:\n",
    "        getX = lambda x: x.X\n",
    "    if gene_symbols is not None:\n",
    "        new_idx = adata.var[idx]\n",
    "    else:\n",
    "        new_idx = adata.var_names\n",
    "\n",
    "    grouped = adata.obs.groupby(group_key)\n",
    "    out = pd.DataFrame(\n",
    "        np.zeros((adata.shape[1], len(grouped)), dtype=np.float64),\n",
    "        columns=list(grouped.groups.keys()),\n",
    "        index=adata.var_names\n",
    "    )\n",
    "\n",
    "    for group, idx in grouped.indices.items():\n",
    "        X = getX(adata[idx])\n",
    "        out[group] = np.ravel(X.mean(axis=0, dtype=np.float64))\n",
    "    return out"
   ]
  },
  {
   "cell_type": "code",
   "execution_count": null,
   "metadata": {
    "collapsed": true,
    "deletable": true,
    "editable": true
   },
   "outputs": [],
   "source": [
    "adata.write('CRISPRi_filtered_combined_original.h5ad')"
   ]
  },
  {
   "cell_type": "code",
   "execution_count": 15,
   "metadata": {
    "collapsed": true,
    "deletable": true,
    "editable": true
   },
   "outputs": [],
   "source": [
    "mean_exp = grouped_obs_mean(adata,'sgRNA')\n",
    "adata = adata[:,(mean_exp>0.5).any(axis=1)]"
   ]
  },
  {
   "cell_type": "code",
   "execution_count": 16,
   "metadata": {
    "collapsed": true,
    "deletable": true,
    "editable": true
   },
   "outputs": [],
   "source": [
    "adata.write('CRISPRi_filtered_combined_original_gene_filtered.h5ad')"
   ]
  },
  {
   "cell_type": "code",
   "execution_count": 9,
   "metadata": {
    "collapsed": false,
    "deletable": true,
    "editable": true,
    "scrolled": false
   },
   "outputs": [
    {
     "name": "stdout",
     "output_type": "stream",
     "text": [
      "Normalizing counts per cell. The following highly-expressed genes are not considered during normalization factor computation:\n",
      "['MALAT1']\n",
      "    finished (0:00:01):normalized adata.X\n"
     ]
    }
   ],
   "source": [
    "sc.pp.normalize_total(adata, target_sum=1e6,exclude_highly_expressed=True)\n",
    "sc.pp.log1p(adata)\n",
    "adata.raw = adata\n",
    "adata.write('CRISPRi_filtered_combined_normalized.h5ad')"
   ]
  },
  {
   "cell_type": "code",
   "execution_count": 15,
   "metadata": {
    "collapsed": true,
    "deletable": true,
    "editable": true
   },
   "outputs": [],
   "source": [
    "sc.pp.regress_out(adata, ['n_counts'],n_jobs=4)\n",
    "# adata.write('CRISPRi_filtered_combined_normalized_regressed.h5ad')"
   ]
  },
  {
   "cell_type": "code",
   "execution_count": 16,
   "metadata": {
    "collapsed": true,
    "deletable": true,
    "editable": true
   },
   "outputs": [],
   "source": [
    "sc.pp.scale(adata, max_value=10)"
   ]
  },
  {
   "cell_type": "code",
   "execution_count": 17,
   "metadata": {
    "collapsed": true,
    "deletable": true,
    "editable": true
   },
   "outputs": [],
   "source": [
    "adata.write('CRISPRi_filtered_filtered_combined_normalized_scaled.h5ad')\n"
   ]
  },
  {
   "cell_type": "code",
   "execution_count": 2,
   "metadata": {
    "collapsed": true,
    "deletable": true,
    "editable": true
   },
   "outputs": [],
   "source": [
    "adata = sc.read_h5ad('CRISPRi_filtered_combined_original_gene_filtered.h5ad')\n"
   ]
  },
  {
   "cell_type": "code",
   "execution_count": 5,
   "metadata": {
    "collapsed": true,
    "deletable": true,
    "editable": true
   },
   "outputs": [
    {
     "name": "stdout",
     "output_type": "stream",
     "text": [
      "computing PCA with n_comps = 4\n",
      "    finished (0:00:00)\n",
      "computing neighbors\n",
      "    using 'X_pca' with n_pcs = 4\n",
      "    finished: added to `.uns['neighbors']`\n",
      "    'distances', distances for each pair of neighbors\n",
      "    'connectivities', weighted adjacency matrix (0:00:00)\n",
      "computing UMAP\n",
      "    finished: added\n",
      "    'X_umap', UMAP coordinates (adata.obsm) (0:00:00)\n",
      "WARNING: saving figure to file figures/umap_SOX5_new.pdf\n",
      "WARNING: saving figure to file figures/pca_SOX5_new.pdf\n"
     ]
    }
   ],
   "source": [
    "import diffxpy.api as de\n",
    "kept_cells = adata[adata.obs['gene']=='non-targeting'].obs_names.tolist()\n",
    "for gene in adata.obs['gene'].unique().tolist():\n",
    "    if gene !='non-targeting':\n",
    "        selected_gene = gene\n",
    "        adata_temp = adata[adata.obs['gene'].isin([selected_gene,'non-targeting'])]\n",
    "\n",
    "        test = de.test.t_test(data=adata_temp,grouping=\"gene\")\n",
    "        diff_genes = test.summary()[test.summary()['pval']<0.05]['gene']\n",
    "\n",
    "        if len(diff_genes) > 10:\n",
    "            adata_temp = adata_temp[:, diff_genes]\n",
    "\n",
    "\n",
    "            n = 4\n",
    "            sc.tl.pca(adata_temp, svd_solver='arpack',n_comps=n)\n",
    "            control_cells = adata_temp.obs['gene']=='non-targeting'\n",
    "            perturbed_cells = adata_temp.obs['gene']==selected_gene\n",
    "            x = adata_temp[control_cells].obsm['X_pca']\n",
    "            y =adata_temp[perturbed_cells].obsm['X_pca']\n",
    "            adata_s = adata[adata_temp.obs_names]\n",
    "            adata_s.obsm = adata_temp.obsm\n",
    "\n",
    "            clf = LocalOutlierFactor(novelty=True,contamination='auto').fit(x)\n",
    "            adata_s.obs['classification']  = 2\n",
    "            adata_s.obs.loc[perturbed_cells,'classification'] = clf.predict(y)\n",
    "\n",
    "            adata_s.obs['classification'] = adata_s.obs['classification'].astype('category')\n",
    "            sc.pp.neighbors(adata_s, n_pcs=n)\n",
    "            sc.tl.umap(adata_s)\n",
    "\n",
    "            if selected_gene in adata_s.var_names.tolist():\n",
    "                sc.pl.umap(adata_s, color=['classification','gene',selected_gene,'sgRNA'],save='_%s_new.pdf'%selected_gene,show=False)\n",
    "                sc.pl.pca(adata_s,color=['classification','gene',selected_gene,'sgRNA'],save='_%s_new.pdf'%selected_gene,show=False)\n",
    "            else:\n",
    "                sc.pl.umap(adata_s, color=['classification','gene','sgRNA'],save='_%s.pdf'%selected_gene,show=False)\n",
    "                sc.pl.pca(adata_s,color=['classification','gene','sgRNA'],save='_%s.pdf'%selected_gene,show=False)\n",
    "            if (clf.predict(y)==-1).sum()>10:\n",
    "                kept_cells += adata_s[adata_s.obs['classification']==-1].obs_names.tolist()\n",
    "\n",
    "                \n",
    "                \n",
    "                "
   ]
  },
  {
   "cell_type": "code",
   "execution_count": 75,
   "metadata": {
    "collapsed": true,
    "deletable": true,
    "editable": true
   },
   "outputs": [],
   "source": [
    "adata_selected = adata_normalized[kept_cells].copy()\n",
    "adata_selected.write('CRISPRi_filtered_filtered_combined_normalized_selected.h5ad')\n",
    "# sc.pp.scale(adata_selected, max_value=10)\n",
    "# adata_selected.write('CRISPRi_filtered_filtered_combined_normalized_scaled_selected.h5ad')"
   ]
  },
  {
   "cell_type": "code",
   "execution_count": 112,
   "metadata": {
    "collapsed": true,
    "deletable": true,
    "editable": true
   },
   "outputs": [],
   "source": [
    "adata_selected = adata_normalized[adata_selected.obs_names].copy()\n",
    "genes = adata_selected.obs['gene'].unique().tolist()\n",
    "diff_genes = []\n",
    "import diffxpy.api as de\n",
    "import os\n",
    "for i, gene in enumerate(genes):\n",
    "    if gene!='non-targeting':\n",
    "#     if gene not in [i.split('_ttest_normed')[0] for i in os.listdir('DEG/')]:\n",
    "        temp = adata_selected[adata_selected.obs['gene'].isin(['non-targeting',gene])]\n",
    "        test = de.test.t_test(data=temp,grouping=\"gene\",is_logged=True)\n",
    "        diff_genes += test.summary().sort_values('pval')['gene'].tolist()[:50]\n",
    "        test.summary().sort_values('pval').to_csv('DEG/rank_test/%s_ttest.csv'%gene)\n"
   ]
  },
  {
   "cell_type": "code",
   "execution_count": null,
   "metadata": {
    "collapsed": true,
    "deletable": true,
    "editable": true
   },
   "outputs": [],
   "source": []
  }
 ],
 "metadata": {
  "kernelspec": {
   "display_name": "Python 2",
   "language": "python",
   "name": "python2"
  },
  "language_info": {
   "codemirror_mode": {
    "name": "ipython",
    "version": 2
   },
   "file_extension": ".py",
   "mimetype": "text/x-python",
   "name": "python",
   "nbconvert_exporter": "python",
   "pygments_lexer": "ipython2",
   "version": "2.7.13"
  }
 },
 "nbformat": 4,
 "nbformat_minor": 2
}
