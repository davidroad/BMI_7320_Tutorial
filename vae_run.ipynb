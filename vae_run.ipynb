{
 "cells": [
  {
   "cell_type": "code",
   "execution_count": null,
   "id": "a9706bc9",
   "metadata": {},
   "outputs": [],
   "source": [
    "# ! pip install scanpy\n",
    "# ! pip install torch\n"
   ]
  },
  {
   "cell_type": "code",
   "execution_count": null,
   "id": "baad478d",
   "metadata": {},
   "outputs": [],
   "source": [
    "import torch\n",
    "from vega_model import VEGA\n",
    "from utils import *\n",
    "from learning_utils import *\n",
    "import scanpy as sc\n",
    "from scipy import sparse\n",
    "from sklearn import preprocessing\n",
    "import numpy as np\n",
    "import itertools\n",
    "import argparse\n",
    "import os\n",
    "import pandas as pd"
   ]
  },
  {
   "cell_type": "code",
   "execution_count": null,
   "id": "da411894",
   "metadata": {},
   "outputs": [],
   "source": [
    "train_file_list=os.listdir('./data')\n",
    "train_file_list=[i for i in train_file_list if '.h5ad' in i]"
   ]
  },
  {
   "cell_type": "code",
   "execution_count": null,
   "id": "bd710ef2",
   "metadata": {},
   "outputs": [],
   "source": [
    "train_file_list"
   ]
  },
  {
   "cell_type": "code",
   "execution_count": null,
   "id": "9c1eb8c5",
   "metadata": {},
   "outputs": [],
   "source": [
    "train_data = sc.read('./data/'+train_file_list[0])"
   ]
  },
  {
   "cell_type": "code",
   "execution_count": null,
   "id": "1ff3b8a5",
   "metadata": {},
   "outputs": [],
   "source": [
    "pathway_file_list=os.listdir('./pathway')\n",
    "pathway_file_list=[i for i in pathway_file_list if '.gmt' in i]"
   ]
  },
  {
   "cell_type": "code",
   "execution_count": null,
   "id": "b184361c",
   "metadata": {},
   "outputs": [],
   "source": [
    "pathway_file_list"
   ]
  },
  {
   "cell_type": "code",
   "execution_count": null,
   "id": "e67701e2",
   "metadata": {},
   "outputs": [],
   "source": [
    "pathway_dict = read_gmt('./pathway/'+pathway_file_list[0], min_g=0, max_g=1000)\n",
    "print(train_data.shape, flush=True)"
   ]
  },
  {
   "cell_type": "code",
   "execution_count": null,
   "id": "f5e5749c",
   "metadata": {},
   "outputs": [],
   "source": [
    "pathway_mask = create_pathway_mask(list(train_data.var.index), pathway_dict, add_missing=1, fully_connected=True)"
   ]
  },
  {
   "cell_type": "code",
   "execution_count": null,
   "id": "ec215934",
   "metadata": {},
   "outputs": [],
   "source": [
    "path_way_ind=[]\n",
    "for i in range(pathway_mask.shape[0]):\n",
    "    path_way_ind.append(np.argmax(pathway_mask[i,:]))"
   ]
  },
  {
   "cell_type": "code",
   "execution_count": null,
   "id": "03bb2dd7",
   "metadata": {},
   "outputs": [],
   "source": [
    "print(path_way_ind) # check all pathway not one the same dimension"
   ]
  },
  {
   "cell_type": "code",
   "execution_count": null,
   "id": "31fc94cf",
   "metadata": {},
   "outputs": [],
   "source": [
    "labels = train_data.obs['label'].values\n",
    "le = preprocessing.LabelEncoder()\n",
    "le.fit(labels)\n",
    "y = torch.Tensor(le.transform(labels))"
   ]
  },
  {
   "cell_type": "code",
   "execution_count": null,
   "id": "f554a72b",
   "metadata": {},
   "outputs": [],
   "source": [
    "train_ds = torch.Tensor(train_data.X)\n",
    "train_ds = UnsupervisedDataset(train_ds,y)"
   ]
  },
  {
   "cell_type": "code",
   "execution_count": null,
   "id": "4577124e",
   "metadata": {},
   "outputs": [],
   "source": [
    "LR = 1e-4\n",
    "N_EPOCHS=500\n",
    "p_drop = 0.5\n",
    "dir_name='./save_model/'\n",
    "model_prefix=pathway_file_list[0].split('.gmt')[0].split('.')[0].split('_')[0]+'_GBM' # change the number of pathway_file_list , the number should be the same with you choose before"
   ]
  },
  {
   "cell_type": "code",
   "execution_count": null,
   "id": "b4c976ae",
   "metadata": {},
   "outputs": [],
   "source": [
    "kfold = KFoldTorch(cv=10, n_epochs=N_EPOCHS, lr=LR, train_p=10, test_p=10, num_workers=0, save_all=True, save_best=False, path_dir=dir_name, model_prefix='go__all')\n",
    "dict_params = {'pathway_mask':pathway_mask, 'beta':0.0001, 'dropout':p_drop, 'path_model':None, 'device':'cpu', 'positive_decoder':True}\n",
    "kfold.train_kfold(VEGA, dict_params, train_ds, batch_size=2000)\n",
    "np.save(dir_name+'5CV_vega_organoid.npy', kfold.cv_res_dict)\n",
    "\n"
   ]
  },
  {
   "cell_type": "code",
   "execution_count": null,
   "id": "2015e88f",
   "metadata": {},
   "outputs": [],
   "source": [
    "help(UnsupervisedDataset)"
   ]
  },
  {
   "cell_type": "code",
   "execution_count": null,
   "id": "844e7285",
   "metadata": {},
   "outputs": [],
   "source": []
  }
 ],
 "metadata": {
  "kernelspec": {
   "display_name": "Python 3 (ipykernel)",
   "language": "python",
   "name": "python3"
  },
  "language_info": {
   "codemirror_mode": {
    "name": "ipython",
    "version": 3
   },
   "file_extension": ".py",
   "mimetype": "text/x-python",
   "name": "python",
   "nbconvert_exporter": "python",
   "pygments_lexer": "ipython3",
   "version": "3.8.13"
  }
 },
 "nbformat": 4,
 "nbformat_minor": 5
}
